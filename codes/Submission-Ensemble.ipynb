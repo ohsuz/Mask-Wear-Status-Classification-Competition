{
 "cells": [
  {
   "cell_type": "code",
   "execution_count": 22,
   "id": "hired-hamilton",
   "metadata": {},
   "outputs": [],
   "source": [
    "import os\n",
    "import glob\n",
    "import time\n",
    "import datetime\n",
    "import sys\n",
    "import io\n",
    "import base64\n",
    "from genericpath import isfile\n",
    "import hashlib\n",
    "import shutil\n",
    "import itertools\n",
    "import tqdm\n",
    "import pandas as pd\n",
    "import numpy as np\n",
    "import seaborn as sns\n",
    "import matplotlib.pyplot as plt\n",
    "import matplotlib.patches as patches\n",
    "from PIL import Image, ImageDraw\n",
    "from collections import Counter\n",
    "\n",
    "import torch\n",
    "from torch.optim import SGD, Adam, AdamW\n",
    "from adamp import AdamP\n",
    "import torch.nn as nn\n",
    "import torch.nn.functional as F\n",
    "from torch.optim.lr_scheduler import StepLR, ReduceLROnPlateau, CosineAnnealingLR\n",
    "from torch.utils.data import Dataset, DataLoader\n",
    "\n",
    "import torchvision.models as models\n",
    "from torchvision import transforms, datasets, models\n",
    "from torchvision.transforms import Resize, ToTensor, Normalize\n",
    "\n",
    "import timm\n",
    "from sklearn.model_selection import StratifiedKFold"
   ]
  },
  {
   "cell_type": "code",
   "execution_count": 3,
   "id": "advanced-minister",
   "metadata": {},
   "outputs": [],
   "source": [
    "from modules.dataset import *\n",
    "from modules.transformation import *\n",
    "from modules.imbalancedsampler import *\n",
    "from modules.loss import *\n",
    "from modules.config import Config as conf\n",
    "from modules.config import HyperParameter as params\n",
    "from modules.utils import *\n",
    "from modules.train import *\n",
    "from modules.ensemble import *"
   ]
  },
  {
   "cell_type": "code",
   "execution_count": 5,
   "id": "attempted-tradition",
   "metadata": {},
   "outputs": [
    {
     "name": "stdout",
     "output_type": "stream",
     "text": [
      "이 실험은 seed 2021로 고정되었습니다.\n"
     ]
    }
   ],
   "source": [
    "seed_everything(2021)"
   ]
  },
  {
   "cell_type": "markdown",
   "id": "general-collins",
   "metadata": {},
   "source": [
    "## 0. Prepare Dataset"
   ]
  },
  {
   "cell_type": "code",
   "execution_count": 6,
   "id": "dirty-strength",
   "metadata": {},
   "outputs": [
    {
     "name": "stderr",
     "output_type": "stream",
     "text": [
      "2700it [00:05, 478.39it/s]\n"
     ]
    }
   ],
   "source": [
    "dataset = PreprocessedDataset(conf.train_dir + '/train.csv', False, 'Label')"
   ]
  },
  {
   "cell_type": "code",
   "execution_count": 7,
   "id": "alleged-protein",
   "metadata": {},
   "outputs": [
    {
     "data": {
      "text/html": [
       "<div>\n",
       "<style scoped>\n",
       "    .dataframe tbody tr th:only-of-type {\n",
       "        vertical-align: middle;\n",
       "    }\n",
       "\n",
       "    .dataframe tbody tr th {\n",
       "        vertical-align: top;\n",
       "    }\n",
       "\n",
       "    .dataframe thead th {\n",
       "        text-align: right;\n",
       "    }\n",
       "</style>\n",
       "<table border=\"1\" class=\"dataframe\">\n",
       "  <thead>\n",
       "    <tr style=\"text-align: right;\">\n",
       "      <th></th>\n",
       "      <th>Mask</th>\n",
       "      <th>Gender</th>\n",
       "      <th>Age</th>\n",
       "      <th>Path</th>\n",
       "      <th>Label</th>\n",
       "      <th>Fold</th>\n",
       "    </tr>\n",
       "  </thead>\n",
       "  <tbody>\n",
       "    <tr>\n",
       "      <th>0</th>\n",
       "      <td>Incorrect</td>\n",
       "      <td>Female</td>\n",
       "      <td>&gt;=30 and &lt;60</td>\n",
       "      <td>/opt/ml/input/data/train/images/000001_female_...</td>\n",
       "      <td>10</td>\n",
       "      <td>2</td>\n",
       "    </tr>\n",
       "    <tr>\n",
       "      <th>1</th>\n",
       "      <td>Wear</td>\n",
       "      <td>Female</td>\n",
       "      <td>&gt;=30 and &lt;60</td>\n",
       "      <td>/opt/ml/input/data/train/images/000001_female_...</td>\n",
       "      <td>4</td>\n",
       "      <td>2</td>\n",
       "    </tr>\n",
       "    <tr>\n",
       "      <th>2</th>\n",
       "      <td>Wear</td>\n",
       "      <td>Female</td>\n",
       "      <td>&gt;=30 and &lt;60</td>\n",
       "      <td>/opt/ml/input/data/train/images/000001_female_...</td>\n",
       "      <td>4</td>\n",
       "      <td>2</td>\n",
       "    </tr>\n",
       "    <tr>\n",
       "      <th>3</th>\n",
       "      <td>Wear</td>\n",
       "      <td>Female</td>\n",
       "      <td>&gt;=30 and &lt;60</td>\n",
       "      <td>/opt/ml/input/data/train/images/000001_female_...</td>\n",
       "      <td>4</td>\n",
       "      <td>2</td>\n",
       "    </tr>\n",
       "    <tr>\n",
       "      <th>4</th>\n",
       "      <td>Wear</td>\n",
       "      <td>Female</td>\n",
       "      <td>&gt;=30 and &lt;60</td>\n",
       "      <td>/opt/ml/input/data/train/images/000001_female_...</td>\n",
       "      <td>4</td>\n",
       "      <td>2</td>\n",
       "    </tr>\n",
       "    <tr>\n",
       "      <th>5</th>\n",
       "      <td>Wear</td>\n",
       "      <td>Female</td>\n",
       "      <td>&gt;=30 and &lt;60</td>\n",
       "      <td>/opt/ml/input/data/train/images/000001_female_...</td>\n",
       "      <td>4</td>\n",
       "      <td>2</td>\n",
       "    </tr>\n",
       "    <tr>\n",
       "      <th>6</th>\n",
       "      <td>Not Wear</td>\n",
       "      <td>Female</td>\n",
       "      <td>&gt;=30 and &lt;60</td>\n",
       "      <td>/opt/ml/input/data/train/images/000001_female_...</td>\n",
       "      <td>16</td>\n",
       "      <td>2</td>\n",
       "    </tr>\n",
       "    <tr>\n",
       "      <th>7</th>\n",
       "      <td>Incorrect</td>\n",
       "      <td>Female</td>\n",
       "      <td>&gt;=30 and &lt;60</td>\n",
       "      <td>/opt/ml/input/data/train/images/000002_female_...</td>\n",
       "      <td>10</td>\n",
       "      <td>1</td>\n",
       "    </tr>\n",
       "    <tr>\n",
       "      <th>8</th>\n",
       "      <td>Wear</td>\n",
       "      <td>Female</td>\n",
       "      <td>&gt;=30 and &lt;60</td>\n",
       "      <td>/opt/ml/input/data/train/images/000002_female_...</td>\n",
       "      <td>4</td>\n",
       "      <td>1</td>\n",
       "    </tr>\n",
       "    <tr>\n",
       "      <th>9</th>\n",
       "      <td>Wear</td>\n",
       "      <td>Female</td>\n",
       "      <td>&gt;=30 and &lt;60</td>\n",
       "      <td>/opt/ml/input/data/train/images/000002_female_...</td>\n",
       "      <td>4</td>\n",
       "      <td>1</td>\n",
       "    </tr>\n",
       "  </tbody>\n",
       "</table>\n",
       "</div>"
      ],
      "text/plain": [
       "        Mask  Gender           Age  \\\n",
       "0  Incorrect  Female  >=30 and <60   \n",
       "1       Wear  Female  >=30 and <60   \n",
       "2       Wear  Female  >=30 and <60   \n",
       "3       Wear  Female  >=30 and <60   \n",
       "4       Wear  Female  >=30 and <60   \n",
       "5       Wear  Female  >=30 and <60   \n",
       "6   Not Wear  Female  >=30 and <60   \n",
       "7  Incorrect  Female  >=30 and <60   \n",
       "8       Wear  Female  >=30 and <60   \n",
       "9       Wear  Female  >=30 and <60   \n",
       "\n",
       "                                                Path  Label  Fold  \n",
       "0  /opt/ml/input/data/train/images/000001_female_...     10     2  \n",
       "1  /opt/ml/input/data/train/images/000001_female_...      4     2  \n",
       "2  /opt/ml/input/data/train/images/000001_female_...      4     2  \n",
       "3  /opt/ml/input/data/train/images/000001_female_...      4     2  \n",
       "4  /opt/ml/input/data/train/images/000001_female_...      4     2  \n",
       "5  /opt/ml/input/data/train/images/000001_female_...      4     2  \n",
       "6  /opt/ml/input/data/train/images/000001_female_...     16     2  \n",
       "7  /opt/ml/input/data/train/images/000002_female_...     10     1  \n",
       "8  /opt/ml/input/data/train/images/000002_female_...      4     1  \n",
       "9  /opt/ml/input/data/train/images/000002_female_...      4     1  "
      ]
     },
     "execution_count": 7,
     "metadata": {},
     "output_type": "execute_result"
    }
   ],
   "source": [
    "dataset.train_df.head(10)"
   ]
  },
  {
   "cell_type": "markdown",
   "id": "widespread-italic",
   "metadata": {},
   "source": [
    "## 1. Soft Voting"
   ]
  },
  {
   "cell_type": "code",
   "execution_count": 9,
   "id": "apparent-values",
   "metadata": {},
   "outputs": [],
   "source": [
    "a = pd.read_csv(os.path.join(conf.ensemble_dir, 'resnet50_cv_best.csv'))\n",
    "b = pd.read_csv(os.path.join(conf.ensemble_dir, 'resnet50_no_cv_best.csv'))\n",
    "c = pd.read_csv(os.path.join(conf.ensemble_dir, 'resnext50.csv'))"
   ]
  },
  {
   "cell_type": "code",
   "execution_count": 16,
   "id": "private-nickel",
   "metadata": {},
   "outputs": [],
   "source": [
    "sv_submission = pd.read_csv(os.path.join(conf.test_dir, 'info.csv'))\n",
    "image_dir = os.path.join(conf.test_dir, 'images')\n",
    "\n",
    "# Test Dataset 클래스 객체를 생성하고 DataLoader를 만듭니다.\n",
    "image_paths = [os.path.join(image_dir, img_id) for img_id in sv_submission.ImageID]\n",
    "\n",
    "all_predictions = []\n",
    "\n",
    "for idx in range(len(image_paths)):\n",
    "    logit_a = np.array(list(map(float, a['logit'][idx][1:-1].replace(\"\\n\", \"\").split(\" \"))))\n",
    "    logit_b = np.array(nn.Softmax(dim=-1)(torch.from_numpy(np.array(list(map(float, list(num for num in b['logit'][idx][1:-1].replace(\"\\n\", \"\").split(\" \") if num)))))))\n",
    "    logit_c = np.array(list(map(float, c['logit'][idx][1:-1].replace(\"\\n\", \"\").split(\" \"))))\n",
    "    total_logits = logit_a + logit_b + logit_c\n",
    "    pred = torch.argmax(torch.from_numpy(total_logits), dim=-1)\n",
    "    all_predictions.append(int(pred))\n",
    "    \n",
    "sv_submission['ans'] = all_predictions\n",
    "# sv_submission.to_csv(os.path.join(conf.submission_dir, '0408_ensemble.csv'), index=False)"
   ]
  },
  {
   "cell_type": "code",
   "execution_count": 17,
   "id": "prepared-animal",
   "metadata": {},
   "outputs": [
    {
     "data": {
      "text/html": [
       "<div>\n",
       "<style scoped>\n",
       "    .dataframe tbody tr th:only-of-type {\n",
       "        vertical-align: middle;\n",
       "    }\n",
       "\n",
       "    .dataframe tbody tr th {\n",
       "        vertical-align: top;\n",
       "    }\n",
       "\n",
       "    .dataframe thead th {\n",
       "        text-align: right;\n",
       "    }\n",
       "</style>\n",
       "<table border=\"1\" class=\"dataframe\">\n",
       "  <thead>\n",
       "    <tr style=\"text-align: right;\">\n",
       "      <th></th>\n",
       "      <th>ImageID</th>\n",
       "      <th>ans</th>\n",
       "    </tr>\n",
       "  </thead>\n",
       "  <tbody>\n",
       "    <tr>\n",
       "      <th>0</th>\n",
       "      <td>cbc5c6e168e63498590db46022617123f1fe1268.jpg</td>\n",
       "      <td>14</td>\n",
       "    </tr>\n",
       "    <tr>\n",
       "      <th>1</th>\n",
       "      <td>0e72482bf56b3581c081f7da2a6180b8792c7089.jpg</td>\n",
       "      <td>2</td>\n",
       "    </tr>\n",
       "    <tr>\n",
       "      <th>2</th>\n",
       "      <td>b549040c49190cedc41327748aeb197c1670f14d.jpg</td>\n",
       "      <td>13</td>\n",
       "    </tr>\n",
       "    <tr>\n",
       "      <th>3</th>\n",
       "      <td>4f9cb2a045c6d5b9e50ad3459ea7b791eb6e18bc.jpg</td>\n",
       "      <td>13</td>\n",
       "    </tr>\n",
       "    <tr>\n",
       "      <th>4</th>\n",
       "      <td>248428d9a4a5b6229a7081c32851b90cb8d38d0c.jpg</td>\n",
       "      <td>12</td>\n",
       "    </tr>\n",
       "  </tbody>\n",
       "</table>\n",
       "</div>"
      ],
      "text/plain": [
       "                                        ImageID  ans\n",
       "0  cbc5c6e168e63498590db46022617123f1fe1268.jpg   14\n",
       "1  0e72482bf56b3581c081f7da2a6180b8792c7089.jpg    2\n",
       "2  b549040c49190cedc41327748aeb197c1670f14d.jpg   13\n",
       "3  4f9cb2a045c6d5b9e50ad3459ea7b791eb6e18bc.jpg   13\n",
       "4  248428d9a4a5b6229a7081c32851b90cb8d38d0c.jpg   12"
      ]
     },
     "execution_count": 17,
     "metadata": {},
     "output_type": "execute_result"
    }
   ],
   "source": [
    "sv_submission.head()"
   ]
  },
  {
   "cell_type": "markdown",
   "id": "cloudy-stationery",
   "metadata": {},
   "source": [
    "## 2. Hard Voting"
   ]
  },
  {
   "cell_type": "code",
   "execution_count": 18,
   "id": "suitable-stretch",
   "metadata": {},
   "outputs": [],
   "source": [
    "# 리더보드 기준 가장 성능이 좋은 9개의 csv 파일을 이용하여 hard voting\n",
    "output1 = pd.read_csv(os.path.join(conf.submission_dir, \"0407_resnet50_correct_cv.csv\"))\n",
    "output2 = pd.read_csv(os.path.join(conf.submission_dir, \"0406_resnet50_no_crop_no_crop.csv\"))\n",
    "output3 = pd.read_csv(os.path.join(conf.submission_dir, \"0407_resnext50_madgrad_cv.csv\"))\n",
    "output4 = pd.read_csv(os.path.join(conf.submission_dir, \"0408_jh.csv\"))\n",
    "output5 = pd.read_csv(os.path.join(conf.submission_dir, \"0405_resnet_king_sub.csv\"))\n",
    "output6 = pd.read_csv(os.path.join(conf.submission_dir, \"0408_resnext50.csv\"))\n",
    "output7 = pd.read_csv(os.path.join(conf.submission_dir, \"0406_efficientnet_64.csv\"))\n",
    "output8 = pd.read_csv(os.path.join(conf.submission_dir, \"0408_last_soft_voting.csv\"))\n",
    "output9 = pd.read_csv(os.path.join(conf.submission_dir, \"0408_ensemble.csv\"))\n",
    "\n",
    "hv_submission = pd.read_csv(os.path.join(conf.test_dir, 'info.csv'))\n",
    "all_predictions = []\n",
    "\n",
    "for i in range(len(output1)):\n",
    "    outputs = [output1[\"ans\"][i], output2[\"ans\"][i], output3[\"ans\"][i], output4[\"ans\"][i],\n",
    "              output5[\"ans\"][i], output6[\"ans\"][i], output7[\"ans\"][i], output8[\"ans\"][i], output9[\"ans\"][i]]\n",
    "    ans = Counter(outputs).most_common(1)\n",
    "    all_predictions.append(ans[0][0])\n",
    "\n",
    "hv_submission[\"ans\"] = all_predictions\n",
    "# hv_submission.to_csv(os.path.join(submission_dir, '0408_hard_voting_9.csv'), index=False)"
   ]
  },
  {
   "cell_type": "code",
   "execution_count": 20,
   "id": "hispanic-singing",
   "metadata": {},
   "outputs": [
    {
     "data": {
      "text/html": [
       "<div>\n",
       "<style scoped>\n",
       "    .dataframe tbody tr th:only-of-type {\n",
       "        vertical-align: middle;\n",
       "    }\n",
       "\n",
       "    .dataframe tbody tr th {\n",
       "        vertical-align: top;\n",
       "    }\n",
       "\n",
       "    .dataframe thead th {\n",
       "        text-align: right;\n",
       "    }\n",
       "</style>\n",
       "<table border=\"1\" class=\"dataframe\">\n",
       "  <thead>\n",
       "    <tr style=\"text-align: right;\">\n",
       "      <th></th>\n",
       "      <th>ImageID</th>\n",
       "      <th>ans</th>\n",
       "    </tr>\n",
       "  </thead>\n",
       "  <tbody>\n",
       "    <tr>\n",
       "      <th>0</th>\n",
       "      <td>cbc5c6e168e63498590db46022617123f1fe1268.jpg</td>\n",
       "      <td>14</td>\n",
       "    </tr>\n",
       "    <tr>\n",
       "      <th>1</th>\n",
       "      <td>0e72482bf56b3581c081f7da2a6180b8792c7089.jpg</td>\n",
       "      <td>2</td>\n",
       "    </tr>\n",
       "    <tr>\n",
       "      <th>2</th>\n",
       "      <td>b549040c49190cedc41327748aeb197c1670f14d.jpg</td>\n",
       "      <td>14</td>\n",
       "    </tr>\n",
       "    <tr>\n",
       "      <th>3</th>\n",
       "      <td>4f9cb2a045c6d5b9e50ad3459ea7b791eb6e18bc.jpg</td>\n",
       "      <td>13</td>\n",
       "    </tr>\n",
       "    <tr>\n",
       "      <th>4</th>\n",
       "      <td>248428d9a4a5b6229a7081c32851b90cb8d38d0c.jpg</td>\n",
       "      <td>12</td>\n",
       "    </tr>\n",
       "  </tbody>\n",
       "</table>\n",
       "</div>"
      ],
      "text/plain": [
       "                                        ImageID  ans\n",
       "0  cbc5c6e168e63498590db46022617123f1fe1268.jpg   14\n",
       "1  0e72482bf56b3581c081f7da2a6180b8792c7089.jpg    2\n",
       "2  b549040c49190cedc41327748aeb197c1670f14d.jpg   14\n",
       "3  4f9cb2a045c6d5b9e50ad3459ea7b791eb6e18bc.jpg   13\n",
       "4  248428d9a4a5b6229a7081c32851b90cb8d38d0c.jpg   12"
      ]
     },
     "execution_count": 20,
     "metadata": {},
     "output_type": "execute_result"
    }
   ],
   "source": [
    "hv_submission.head()"
   ]
  }
 ],
 "metadata": {
  "kernelspec": {
   "display_name": "Python 3",
   "language": "python",
   "name": "python3"
  },
  "language_info": {
   "codemirror_mode": {
    "name": "ipython",
    "version": 3
   },
   "file_extension": ".py",
   "mimetype": "text/x-python",
   "name": "python",
   "nbconvert_exporter": "python",
   "pygments_lexer": "ipython3",
   "version": "3.7.7"
  }
 },
 "nbformat": 4,
 "nbformat_minor": 5
}
